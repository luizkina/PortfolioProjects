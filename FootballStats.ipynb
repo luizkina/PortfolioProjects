{
 "cells": [
  {
   "cell_type": "markdown",
   "id": "a8910d33-7aad-4139-9709-1789adee7643",
   "metadata": {},
   "source": [
    "# Premier League Stats"
   ]
  },
  {
   "cell_type": "code",
   "execution_count": 1,
   "id": "3c247dcd-bffd-4b60-9949-e717d7fcfab4",
   "metadata": {},
   "outputs": [],
   "source": [
    "# This project consists of getting information about a team (in this case the first place team) and looking at all the team's match results\n",
    "# and the information about shooting statistics and joining it to the same table.\n",
    "#\n",
    "# After that, there is an iteration for all the teams in the Premier League to do the same and saving it to a csv document."
   ]
  },
  {
   "cell_type": "code",
   "execution_count": 2,
   "id": "0721d7d1-e64c-499e-9c59-cae3a97039e6",
   "metadata": {},
   "outputs": [],
   "source": [
    "import requests\n",
    "from bs4 import BeautifulSoup\n",
    "import pandas as pd\n",
    "from io import StringIO"
   ]
  },
  {
   "cell_type": "code",
   "execution_count": 3,
   "id": "a107d524-0b5c-490a-bdf8-8097158ea15e",
   "metadata": {},
   "outputs": [],
   "source": [
    "# Get information from url\n",
    "url = \"https://fbref.com/en/comps/9/Premier-League-Stats\"\n",
    "data = requests.get(url)\n",
    "soup = BeautifulSoup(data.text)"
   ]
  },
  {
   "cell_type": "code",
   "execution_count": 4,
   "id": "1ea3ae83-63e8-41ef-9239-8bc35fd231fc",
   "metadata": {},
   "outputs": [],
   "source": [
    "# Select Standings table to find the teams' urls\n",
    "standings_table = soup.select(\"table.stats_table\")[0]\n",
    "links = standings_table.find_all('a')"
   ]
  },
  {
   "cell_type": "code",
   "execution_count": 5,
   "id": "0d15a786-daa4-4a52-baa3-195c2321c242",
   "metadata": {},
   "outputs": [],
   "source": [
    "# Find the urls of the teams and add them into a list\n",
    "links = [l.get(\"href\") for l in links]\n",
    "links = [l for l in links if '/squads/' in l]\n",
    "team_urls = [f\"https://fbref.com{l}\" for l in links]"
   ]
  },
  {
   "cell_type": "code",
   "execution_count": 6,
   "id": "3f869707-e210-43f0-99f0-697c31bebaa2",
   "metadata": {},
   "outputs": [],
   "source": [
    "# Select a team to inspect\n",
    "team_url = team_urls[0]"
   ]
  },
  {
   "cell_type": "code",
   "execution_count": 7,
   "id": "36e733c4-6b97-4578-b53f-f17662684403",
   "metadata": {},
   "outputs": [],
   "source": [
    "# See the team's results\n",
    "data = requests.get(team_url)\n",
    "matches = StringIO(data.text)\n",
    "matches = pd.read_html(matches, match = \"Scores & Fixtures\")"
   ]
  },
  {
   "cell_type": "code",
   "execution_count": 8,
   "id": "493d5fe0-6dc4-4472-abe5-6123628d0915",
   "metadata": {},
   "outputs": [],
   "source": [
    "# See more information about the team's shooting informations\n",
    "soup = BeautifulSoup(data.text)\n",
    "links = soup.find_all('a')\n",
    "links = [l.get(\"href\") for l in links]\n",
    "links = [l for l in links if l and 'all_comps/shooting/' in l]"
   ]
  },
  {
   "cell_type": "code",
   "execution_count": 9,
   "id": "1e1c4bef-b655-482d-a1f9-3965c9922d27",
   "metadata": {},
   "outputs": [],
   "source": [
    "data = requests.get(f\"https://fbref.com{links[0]}\")"
   ]
  },
  {
   "cell_type": "code",
   "execution_count": 10,
   "id": "fbe71d9d-6d5f-459b-9357-a7b5a29b6ee0",
   "metadata": {},
   "outputs": [],
   "source": [
    "shooting = StringIO(data.text)\n",
    "shooting = pd.read_html(shooting, match = \"Shooting\")[0]\n",
    "shooting.columns = shooting.columns.droplevel()"
   ]
  },
  {
   "cell_type": "code",
   "execution_count": 11,
   "id": "cf7a6846-ffa6-4cbb-b63c-4b6beabd2d42",
   "metadata": {},
   "outputs": [],
   "source": [
    "# Merge table from matches with shooting stats\n",
    "team_data = matches[0].merge(shooting[[\"Date\", \"Sh\", \"SoT\", \"Dist\", \"FK\", \"PK\", \"PKatt\"]], on=\"Date\")"
   ]
  },
  {
   "cell_type": "code",
   "execution_count": 12,
   "id": "a4737e0a-7b1a-45a4-b30a-e7f6336e32ff",
   "metadata": {},
   "outputs": [],
   "source": [
    "# Looking for data from previous seasons\n",
    "years = list(range(2022, 2020, -1))\n",
    "all_matches = []\n",
    "standings_url = \"https://fbref.com/en/comps/9/Premier-League-Stats\""
   ]
  },
  {
   "cell_type": "code",
   "execution_count": 14,
   "id": "d081e47b-b0cb-427f-813f-45fcd3186514",
   "metadata": {},
   "outputs": [],
   "source": [
    "import time\n",
    "# Iterarate for previous years\n",
    "for year in years:\n",
    "    data = requests.get(standings_url)\n",
    "    soup = BeautifulSoup(data.text)\n",
    "    time.sleep(5)\n",
    "    standings_table = soup.select('table.stats_table')[0]\n",
    "\n",
    "    links = [l.get(\"href\") for l in standings_table.find_all('a')]\n",
    "    links = [l for l in links if '/squads/' in l]\n",
    "    team_urls = [f\"https://fbref.com{l}\" for l in links]\n",
    "\n",
    "    previous_season = soup.select(\"a.prev\")[0].get(\"href\")\n",
    "    standings_url = f\"https://fbref.com/{previous_season}\"\n",
    "    \n",
    "    # Same process of finding a team's url, looking for it's stats & results and merge with shooting stats\n",
    "    for team_url in team_urls:\n",
    "        team_name = team_url.split(\"/\")[-1].replace(\"-Stats\", \"\").replace(\"-\",\"\")\n",
    "\n",
    "        data = requests.get(team_url)\n",
    "        time.sleep(5)\n",
    "        matches = StringIO(data.text)\n",
    "        matches = pd.read_html(matches, match = \"Scores & Fixtures\")[0]\n",
    "\n",
    "        soup = BeautifulSoup(data.text)\n",
    "        links = [l.get(\"href\") for l in soup.find_all('a')]\n",
    "        links = [l for l in links if l and 'all_comps/shooting/' in l]\n",
    "        data = requests.get(f\"https://fbref.com{links[0]}\")\n",
    "        shooting = StringIO(data.text)\n",
    "        shooting = pd.read_html(shooting, match = \"Shooting\")[0]\n",
    "        shooting.columns = shooting.columns.droplevel()\n",
    "\n",
    "        try:\n",
    "            team_data = matches.merge(shooting[[\"Date\", \"Sh\", \"SoT\", \"Dist\", \"FK\", \"PK\", \"PKatt\"]], on=\"Date\")\n",
    "        except ValueError:\n",
    "            continue\n",
    "\n",
    "        team_data = team_data[team_data[\"Comp\"] == \"Premier League\"]\n",
    "        team_data[\"Season\"] = year\n",
    "        team_data[\"Team\"] = team_name\n",
    "        all_matches.append(team_data)\n",
    "    "
   ]
  },
  {
   "cell_type": "code",
   "execution_count": 15,
   "id": "533a36ad-0b59-4654-a128-03841b47941a",
   "metadata": {},
   "outputs": [
    {
     "ename": "NameError",
     "evalue": "name 'match_df' is not defined",
     "output_type": "error",
     "traceback": [
      "\u001b[1;31m---------------------------------------------------------------------------\u001b[0m",
      "\u001b[1;31mNameError\u001b[0m                                 Traceback (most recent call last)",
      "Cell \u001b[1;32mIn[15], line 1\u001b[0m\n\u001b[1;32m----> 1\u001b[0m match_df\n",
      "\u001b[1;31mNameError\u001b[0m: name 'match_df' is not defined"
     ]
    }
   ],
   "source": [
    "match_df"
   ]
  },
  {
   "cell_type": "code",
   "execution_count": 17,
   "id": "6ec57d70-d950-4e8a-9630-bbc1934c7789",
   "metadata": {},
   "outputs": [],
   "source": [
    "match_df = pd.concat(all_matches)"
   ]
  },
  {
   "cell_type": "code",
   "execution_count": 18,
   "id": "134425d1-f575-4646-bbcb-0baf6f18f252",
   "metadata": {},
   "outputs": [],
   "source": [
    "match_df.to_csv(\"matches.csv\")"
   ]
  }
 ],
 "metadata": {
  "kernelspec": {
   "display_name": "Python 3 (ipykernel)",
   "language": "python",
   "name": "python3"
  },
  "language_info": {
   "codemirror_mode": {
    "name": "ipython",
    "version": 3
   },
   "file_extension": ".py",
   "mimetype": "text/x-python",
   "name": "python",
   "nbconvert_exporter": "python",
   "pygments_lexer": "ipython3",
   "version": "3.12.4"
  }
 },
 "nbformat": 4,
 "nbformat_minor": 5
}
